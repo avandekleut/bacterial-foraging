{
 "cells": [
  {
   "cell_type": "code",
   "execution_count": 22,
   "metadata": {},
   "outputs": [],
   "source": [
    "%load_ext line_profiler"
   ]
  },
  {
   "cell_type": "code",
   "execution_count": 38,
   "metadata": {},
   "outputs": [
    {
     "ename": "NameError",
     "evalue": "name 'theta_historie' is not defined",
     "output_type": "error",
     "traceback": [
      "\u001b[0;31m---------------------------------------------------------------------------\u001b[0m",
      "\u001b[0;31mNameError\u001b[0m                                 Traceback (most recent call last)",
      "\u001b[0;32m<ipython-input-38-f28c51302e61>\u001b[0m in \u001b[0;36m<module>\u001b[0;34m\u001b[0m\n\u001b[1;32m     49\u001b[0m \u001b[0;34m\u001b[0m\u001b[0m\n\u001b[1;32m     50\u001b[0m \u001b[0;32mfrom\u001b[0m \u001b[0mlosses\u001b[0m \u001b[0;32mimport\u001b[0m \u001b[0;34m*\u001b[0m\u001b[0;34m\u001b[0m\u001b[0;34m\u001b[0m\u001b[0m\n\u001b[0;32m---> 51\u001b[0;31m \u001b[0msimulate\u001b[0m\u001b[0;34m(\u001b[0m\u001b[0mrastrigin\u001b[0m\u001b[0;34m)\u001b[0m\u001b[0;34m\u001b[0m\u001b[0;34m\u001b[0m\u001b[0m\n\u001b[0m",
      "\u001b[0;32m<ipython-input-38-f28c51302e61>\u001b[0m in \u001b[0;36msimulate\u001b[0;34m(J, S, p, c, N_ed, p_ed, N_re, N_c, rng, d_attract, w_attract, h_repellant, w_repellant)\u001b[0m\n\u001b[1;32m     46\u001b[0m         \u001b[0mtheta\u001b[0m\u001b[0;34m[\u001b[0m\u001b[0mdisperse\u001b[0m\u001b[0;34m]\u001b[0m \u001b[0;34m=\u001b[0m \u001b[0mrng\u001b[0m\u001b[0;34m[\u001b[0m\u001b[0;36m0\u001b[0m\u001b[0;34m]\u001b[0m \u001b[0;34m+\u001b[0m \u001b[0mnp\u001b[0m\u001b[0;34m.\u001b[0m\u001b[0mrandom\u001b[0m\u001b[0;34m.\u001b[0m\u001b[0mrand\u001b[0m\u001b[0;34m(\u001b[0m\u001b[0mdisperse\u001b[0m\u001b[0;34m.\u001b[0m\u001b[0msum\u001b[0m\u001b[0;34m(\u001b[0m\u001b[0;34m)\u001b[0m\u001b[0;34m,\u001b[0m \u001b[0mp\u001b[0m\u001b[0;34m)\u001b[0m\u001b[0;34m*\u001b[0m\u001b[0;34m(\u001b[0m\u001b[0mrng\u001b[0m\u001b[0;34m[\u001b[0m\u001b[0;36m1\u001b[0m\u001b[0;34m]\u001b[0m \u001b[0;34m-\u001b[0m \u001b[0mrng\u001b[0m\u001b[0;34m[\u001b[0m\u001b[0;36m0\u001b[0m\u001b[0;34m]\u001b[0m\u001b[0;34m)\u001b[0m\u001b[0;34m\u001b[0m\u001b[0;34m\u001b[0m\u001b[0m\n\u001b[1;32m     47\u001b[0m \u001b[0;34m\u001b[0m\u001b[0m\n\u001b[0;32m---> 48\u001b[0;31m     \u001b[0;32mreturn\u001b[0m \u001b[0mJ_histories\u001b[0m\u001b[0;34m,\u001b[0m \u001b[0mtheta_historie\u001b[0m\u001b[0;34m\u001b[0m\u001b[0;34m\u001b[0m\u001b[0m\n\u001b[0m\u001b[1;32m     49\u001b[0m \u001b[0;34m\u001b[0m\u001b[0m\n\u001b[1;32m     50\u001b[0m \u001b[0;32mfrom\u001b[0m \u001b[0mlosses\u001b[0m \u001b[0;32mimport\u001b[0m \u001b[0;34m*\u001b[0m\u001b[0;34m\u001b[0m\u001b[0;34m\u001b[0m\u001b[0m\n",
      "\u001b[0;31mNameError\u001b[0m: name 'theta_historie' is not defined"
     ]
    }
   ],
   "source": [
    "import numpy as np\n",
    "import sklearn.metrics\n",
    "\n",
    "def simulate(J, S=10, p=2, c=0.1, N_ed=2, p_ed=0.25, N_re=4, N_c=100, rng=(-5.12,5.12), d_attract=0.1, w_attract=0.2, h_repellant=0.1, w_repellant=10):\n",
    "\n",
    "    theta = rng[0] + np.random.rand(S, p)*(rng[1] - rng[0])\n",
    "\n",
    "    def J_cc(x, theta):\n",
    "        \"\"\"\n",
    "        x: np.ndarray(m, p)\n",
    "        \"\"\"\n",
    "        diff = sklearn.metrics.pairwise.euclidean_distances(theta, x, squared=True)\n",
    "        return (-d_attract*np.exp(-w_attract*diff) + h_repellant*np.exp(-w_repellant*diff)).sum(axis=0)\n",
    "\n",
    "    J_histories = np.zeros((N_ed, N_re, S, N_c))\n",
    "    theta_histories = np.zeros((N_ed, N_re, S, N_c, p))\n",
    "    #\n",
    "    for l in range(N_ed):\n",
    "        for k in range(N_re):\n",
    "            for j in range(N_c):\n",
    "                phi = np.random.uniform(low=-1, high=1, size=(S,p))\n",
    "                phi /= np.linalg.norm(phi)\n",
    "                theta = theta + c*phi\n",
    "                J_theta = np.apply_along_axis(J, 1, theta) + J_cc(theta, theta)\n",
    "\n",
    "                theta_new = theta + c*phi\n",
    "                J_theta_new = np.apply_along_axis(J, 1, theta_new) + J_cc(theta_new, theta_new)\n",
    "\n",
    "                to_run = np.where(J_theta_new < J_theta)[0]\n",
    "                while len(to_run) > 0:\n",
    "                    theta_old = theta_new.copy()\n",
    "                    J_theta_old = J_theta_new.copy()\n",
    "                    theta_new[to_run] = theta_old[to_run] + c*phi[to_run]\n",
    "                    J_theta_new[to_run] = np.apply_along_axis(J, 1, theta_new[to_run]) + J_cc(theta_new[to_run], theta_new)\n",
    "                    to_run = np.where(J_theta_new < J_theta_old)[0]\n",
    "\n",
    "                theta = theta_new\n",
    "\n",
    "                # J_histories[l, k, :, j] = J_theta.copy()\n",
    "                # theta_histories[l, k, :, j, :] = theta.copy()\n",
    "\n",
    "            I = np.argsort(J_histories[l, k].sum(axis=1)) # sort\n",
    "            theta = np.concatenate((theta[I[:S//2]].copy(), theta[I[:S//2]].copy()))\n",
    "\n",
    "        disperse = np.random.rand(S) < p_ed\n",
    "        theta[disperse] = rng[0] + np.random.rand(disperse.sum(), p)*(rng[1] - rng[0])\n",
    "\n",
    "    return J_histories, theta_histories\n",
    "\n",
    "from losses import *\n",
    "simulate(rastrigin)"
   ]
  },
  {
   "cell_type": "code",
   "execution_count": null,
   "metadata": {},
   "outputs": [],
   "source": []
  }
 ],
 "metadata": {
  "kernelspec": {
   "display_name": "Python 3",
   "language": "python",
   "name": "python3"
  },
  "language_info": {
   "codemirror_mode": {
    "name": "ipython",
    "version": 3
   },
   "file_extension": ".py",
   "mimetype": "text/x-python",
   "name": "python",
   "nbconvert_exporter": "python",
   "pygments_lexer": "ipython3",
   "version": "3.8.1"
  }
 },
 "nbformat": 4,
 "nbformat_minor": 4
}
